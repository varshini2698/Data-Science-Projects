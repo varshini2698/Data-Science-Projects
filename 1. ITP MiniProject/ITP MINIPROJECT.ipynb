{
 "cells": [
  {
   "cell_type": "markdown",
   "id": "810c73a8",
   "metadata": {},
   "source": [
    "# ITP Mini-Project"
   ]
  },
  {
   "cell_type": "markdown",
   "id": "0729cddb",
   "metadata": {},
   "source": [
    "**Q1. Create a Dictionary of lists to store the information of shipments given in the table**"
   ]
  },
  {
   "cell_type": "code",
   "execution_count": 1,
   "id": "4ffe4be6",
   "metadata": {},
   "outputs": [],
   "source": [
    "shipment = {\n",
    "    101 : {\"Sender\":1, \"Receiver\":3, \"Start Date\":\"14/03/2020\", \"Delivery Date\":\"25/03/2020\" , \"Sender Location\":\"Area 1\" , \"Receiver Location\":\"Area 6\", \"Delivery Status\":\"Delivered\", \"Shipping Cost\":198},\n",
    "    102 : {\"Sender\":4, \"Receiver\":1, \"Start Date\":\"18/06/2020\", \"Delivery Date\":\"09/07/2020\" , \"Sender Location\":\"Area 2\" , \"Receiver Location\":\"Area 4\", \"Delivery Status\":\"Delivered\", \"Shipping Cost\":275},\n",
    "    103 : {\"Sender\":2, \"Receiver\":3, \"Start Date\":\"01/12/2020\", \"Delivery Date\":\"Null\" , \"Sender Location\":\"Area 5\" , \"Receiver Location\":\"Area 1\", \"Delivery Status\":\"In-Transit\", \"Shipping Cost\":200},\n",
    "    104 : {\"Sender\":1, \"Receiver\":5, \"Start Date\":\"23/06/2020\", \"Delivery Date\":\"25/06/2020\" , \"Sender Location\":\"Area 1\" , \"Receiver Location\":\"Area 4\", \"Delivery Status\":\"Delivered\", \"Shipping Cost\":314},\n",
    "    105 : {\"Sender\":3, \"Receiver\":4, \"Start Date\":\"29/08/2020\", \"Delivery Date\":\"10/09/2020\" , \"Sender Location\":\"Area 5\" , \"Receiver Location\":\"Area 3\", \"Delivery Status\":\"Delivered\", \"Shipping Cost\":275},\n",
    "    106 : {\"Sender\":5, \"Receiver\":2, \"Start Date\":\"28/06/2020\", \"Delivery Date\":\"Null\" , \"Sender Location\":\"Area 3\" , \"Receiver Location\":\"Area 1\", \"Delivery Status\":\"In-Transit\", \"Shipping Cost\":270}\n",
    "}"
   ]
  },
  {
   "cell_type": "code",
   "execution_count": 2,
   "id": "76751095",
   "metadata": {},
   "outputs": [
    {
     "name": "stdout",
     "output_type": "stream",
     "text": [
      "{101: {'Sender': 1, 'Receiver': 3, 'Start Date': '14/03/2020', 'Delivery Date': '25/03/2020', 'Sender Location': 'Area 1', 'Receiver Location': 'Area 6', 'Delivery Status': 'Delivered', 'Shipping Cost': 198}, 102: {'Sender': 4, 'Receiver': 1, 'Start Date': '18/06/2020', 'Delivery Date': '09/07/2020', 'Sender Location': 'Area 2', 'Receiver Location': 'Area 4', 'Delivery Status': 'Delivered', 'Shipping Cost': 275}, 103: {'Sender': 2, 'Receiver': 3, 'Start Date': '01/12/2020', 'Delivery Date': 'Null', 'Sender Location': 'Area 5', 'Receiver Location': 'Area 1', 'Delivery Status': 'In-Transit', 'Shipping Cost': 200}, 104: {'Sender': 1, 'Receiver': 5, 'Start Date': '23/06/2020', 'Delivery Date': '25/06/2020', 'Sender Location': 'Area 1', 'Receiver Location': 'Area 4', 'Delivery Status': 'Delivered', 'Shipping Cost': 314}, 105: {'Sender': 3, 'Receiver': 4, 'Start Date': '29/08/2020', 'Delivery Date': '10/09/2020', 'Sender Location': 'Area 5', 'Receiver Location': 'Area 3', 'Delivery Status': 'Delivered', 'Shipping Cost': 275}, 106: {'Sender': 5, 'Receiver': 2, 'Start Date': '28/06/2020', 'Delivery Date': 'Null', 'Sender Location': 'Area 3', 'Receiver Location': 'Area 1', 'Delivery Status': 'In-Transit', 'Shipping Cost': 270}}\n"
     ]
    }
   ],
   "source": [
    "print(shipment)"
   ]
  },
  {
   "cell_type": "markdown",
   "id": "63dd4fba",
   "metadata": {},
   "source": [
    "**Q2. Create a Dictionary of to store the information of clients given in the table.**"
   ]
  },
  {
   "cell_type": "code",
   "execution_count": 3,
   "id": "6965f997",
   "metadata": {},
   "outputs": [],
   "source": [
    "clients = {1:\"Philip\" , 2:\"Omega III\" , 3:\"Ramya\" , 4:\"Romesh\" , 5:\"John\"}"
   ]
  },
  {
   "cell_type": "code",
   "execution_count": 4,
   "id": "9a47fb74",
   "metadata": {},
   "outputs": [
    {
     "name": "stdout",
     "output_type": "stream",
     "text": [
      "{1: 'Philip', 2: 'Omega III', 3: 'Ramya', 4: 'Romesh', 5: 'John'}\n"
     ]
    }
   ],
   "source": [
    "print(clients)"
   ]
  },
  {
   "cell_type": "markdown",
   "id": "d422e70e",
   "metadata": {},
   "source": [
    "**Q3. Write a code to replace client’s id with their respective name in shipment dictionary using a loop and dictionary comprehension**"
   ]
  },
  {
   "cell_type": "code",
   "execution_count": 5,
   "id": "c9dc01ea",
   "metadata": {},
   "outputs": [
    {
     "name": "stdout",
     "output_type": "stream",
     "text": [
      "{101: {'Sender': 'Philip', 'Receiver': 'Ramya', 'Start Date': '14/03/2020', 'Delivery Date': '25/03/2020', 'Sender Location': 'Area 1', 'Receiver Location': 'Area 6', 'Delivery Status': 'Delivered', 'Shipping Cost': 198}, 102: {'Sender': 'Romesh', 'Receiver': 'Philip', 'Start Date': '18/06/2020', 'Delivery Date': '09/07/2020', 'Sender Location': 'Area 2', 'Receiver Location': 'Area 4', 'Delivery Status': 'Delivered', 'Shipping Cost': 275}, 103: {'Sender': 'Omega III', 'Receiver': 'Ramya', 'Start Date': '01/12/2020', 'Delivery Date': 'Null', 'Sender Location': 'Area 5', 'Receiver Location': 'Area 1', 'Delivery Status': 'In-Transit', 'Shipping Cost': 200}, 104: {'Sender': 'Philip', 'Receiver': 'John', 'Start Date': '23/06/2020', 'Delivery Date': '25/06/2020', 'Sender Location': 'Area 1', 'Receiver Location': 'Area 4', 'Delivery Status': 'Delivered', 'Shipping Cost': 314}, 105: {'Sender': 'Ramya', 'Receiver': 'Romesh', 'Start Date': '29/08/2020', 'Delivery Date': '10/09/2020', 'Sender Location': 'Area 5', 'Receiver Location': 'Area 3', 'Delivery Status': 'Delivered', 'Shipping Cost': 275}, 106: {'Sender': 'John', 'Receiver': 'Omega III', 'Start Date': '28/06/2020', 'Delivery Date': 'Null', 'Sender Location': 'Area 3', 'Receiver Location': 'Area 1', 'Delivery Status': 'In-Transit', 'Shipping Cost': 270}}\n"
     ]
    }
   ],
   "source": [
    "i = 101\n",
    "for i in range(101,list(shipment.keys())[-1]+1):\n",
    "    shipment[i][\"Sender\"] = clients[shipment[i][\"Sender\"]]\n",
    "    shipment[i][\"Receiver\"] = clients[shipment[i][\"Receiver\"]]\n",
    "    \n",
    "print(shipment)"
   ]
  },
  {
   "cell_type": "markdown",
   "id": "f2a44b2b",
   "metadata": {},
   "source": [
    "**Q4. Print all shipment details that are sent by Phillip**"
   ]
  },
  {
   "cell_type": "code",
   "execution_count": 6,
   "id": "5f97aef7",
   "metadata": {},
   "outputs": [
    {
     "name": "stdout",
     "output_type": "stream",
     "text": [
      "\n",
      "Shipmentid:  101 {'Sender': 'Philip', 'Receiver': 'Ramya', 'Start Date': '14/03/2020', 'Delivery Date': '25/03/2020', 'Sender Location': 'Area 1', 'Receiver Location': 'Area 6', 'Delivery Status': 'Delivered', 'Shipping Cost': 198}\n",
      "\n",
      "Shipmentid:  104 {'Sender': 'Philip', 'Receiver': 'John', 'Start Date': '23/06/2020', 'Delivery Date': '25/06/2020', 'Sender Location': 'Area 1', 'Receiver Location': 'Area 4', 'Delivery Status': 'Delivered', 'Shipping Cost': 314}\n"
     ]
    }
   ],
   "source": [
    "i = 101\n",
    "while i < 107:\n",
    "    if shipment[i][\"Sender\"] == \"Philip\":\n",
    "        print(\"\\nShipmentid: \",i, shipment[i])\n",
    "    i += 1"
   ]
  },
  {
   "cell_type": "markdown",
   "id": "2cc12843",
   "metadata": {},
   "source": [
    "**Q5. Print all shipment details that are received by Ramya**"
   ]
  },
  {
   "cell_type": "code",
   "execution_count": 7,
   "id": "49e546ee",
   "metadata": {},
   "outputs": [
    {
     "name": "stdout",
     "output_type": "stream",
     "text": [
      "\n",
      "Shipmentid:  101 {'Sender': 'Philip', 'Receiver': 'Ramya', 'Start Date': '14/03/2020', 'Delivery Date': '25/03/2020', 'Sender Location': 'Area 1', 'Receiver Location': 'Area 6', 'Delivery Status': 'Delivered', 'Shipping Cost': 198}\n",
      "\n",
      "Shipmentid:  103 {'Sender': 'Omega III', 'Receiver': 'Ramya', 'Start Date': '01/12/2020', 'Delivery Date': 'Null', 'Sender Location': 'Area 5', 'Receiver Location': 'Area 1', 'Delivery Status': 'In-Transit', 'Shipping Cost': 200}\n"
     ]
    }
   ],
   "source": [
    "i = 101\n",
    "while i < 107:\n",
    "    if shipment[i][\"Receiver\"] == \"Ramya\":\n",
    "        print(\"\\nShipmentid: \",i, shipment[i])\n",
    "    i += 1"
   ]
  },
  {
   "cell_type": "markdown",
   "id": "c7a91d03",
   "metadata": {},
   "source": [
    "**Q6. Print all shipments which are in 'In-Transit' status**"
   ]
  },
  {
   "cell_type": "code",
   "execution_count": 8,
   "id": "58b560ab",
   "metadata": {},
   "outputs": [
    {
     "name": "stdout",
     "output_type": "stream",
     "text": [
      "\n",
      "Shipmentid:  103 {'Sender': 'Omega III', 'Receiver': 'Ramya', 'Start Date': '01/12/2020', 'Delivery Date': 'Null', 'Sender Location': 'Area 5', 'Receiver Location': 'Area 1', 'Delivery Status': 'In-Transit', 'Shipping Cost': 200}\n",
      "\n",
      "Shipmentid:  106 {'Sender': 'John', 'Receiver': 'Omega III', 'Start Date': '28/06/2020', 'Delivery Date': 'Null', 'Sender Location': 'Area 3', 'Receiver Location': 'Area 1', 'Delivery Status': 'In-Transit', 'Shipping Cost': 270}\n"
     ]
    }
   ],
   "source": [
    "i = 101\n",
    "while i < 107:\n",
    "    if shipment[i][\"Delivery Status\"] == \"In-Transit\":\n",
    "        print(\"\\nShipmentid: \",i, shipment[i])\n",
    "    i += 1"
   ]
  },
  {
   "cell_type": "code",
   "execution_count": null,
   "id": "51fd4942",
   "metadata": {},
   "outputs": [],
   "source": []
  },
  {
   "cell_type": "code",
   "execution_count": null,
   "id": "754a8741",
   "metadata": {},
   "outputs": [],
   "source": []
  }
 ],
 "metadata": {
  "kernelspec": {
   "display_name": "Python 3 (ipykernel)",
   "language": "python",
   "name": "python3"
  },
  "language_info": {
   "codemirror_mode": {
    "name": "ipython",
    "version": 3
   },
   "file_extension": ".py",
   "mimetype": "text/x-python",
   "name": "python",
   "nbconvert_exporter": "python",
   "pygments_lexer": "ipython3",
   "version": "3.9.7"
  }
 },
 "nbformat": 4,
 "nbformat_minor": 5
}
