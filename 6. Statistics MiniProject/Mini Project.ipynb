{
 "cells": [
  {
   "cell_type": "code",
   "execution_count": 1,
   "id": "1f360123",
   "metadata": {},
   "outputs": [],
   "source": [
    "import pandas as pd \n",
    "\n",
    "# import 'numpy' \n",
    "import numpy as np\n",
    "\n",
    "# to suppress warnings \n",
    "from warnings import filterwarnings\n",
    "filterwarnings('ignore')\n",
    "\n",
    "# import statsmodels\n",
    "import statsmodels.api as sm\n",
    "from statsmodels.formula.api import ols\n",
    "from statsmodels.stats.anova import anova_lm\n",
    "\n",
    "# import 'stats' package from scipy library\n",
    "from scipy import stats\n",
    "\n",
    "# import the functions to perform Chi-square tests\n",
    "from scipy.stats import chi2_contingency\n",
    "from scipy.stats import chi2\n",
    "from scipy.stats import chisquare\n",
    "\n",
    "# function to perform post-hoc test\n",
    "import statsmodels.stats.multicomp as mc\n",
    "\n",
    "# import function to perform post-hoc\n",
    "# install scikit_posthocs using \"!pip install scikit_posthocs\" \n",
    "import scikit_posthocs\n",
    "import seaborn as sns\n",
    "import matplotlib.pyplot as plt\n",
    "from statsmodels.stats.weightstats import ztest "
   ]
  },
  {
   "cell_type": "code",
   "execution_count": 2,
   "id": "bc9947fd",
   "metadata": {
    "scrolled": true
   },
   "outputs": [
    {
     "data": {
      "text/html": [
       "<div>\n",
       "<style scoped>\n",
       "    .dataframe tbody tr th:only-of-type {\n",
       "        vertical-align: middle;\n",
       "    }\n",
       "\n",
       "    .dataframe tbody tr th {\n",
       "        vertical-align: top;\n",
       "    }\n",
       "\n",
       "    .dataframe thead th {\n",
       "        text-align: right;\n",
       "    }\n",
       "</style>\n",
       "<table border=\"1\" class=\"dataframe\">\n",
       "  <thead>\n",
       "    <tr style=\"text-align: right;\">\n",
       "      <th></th>\n",
       "      <th>Name</th>\n",
       "      <th>Age</th>\n",
       "      <th>Nationality</th>\n",
       "      <th>Overall_rating</th>\n",
       "      <th>Potential</th>\n",
       "      <th>Club</th>\n",
       "      <th>Preferred Foot</th>\n",
       "      <th>International Reputation</th>\n",
       "      <th>Weak Foot</th>\n",
       "      <th>Skill Moves</th>\n",
       "      <th>Work Rate</th>\n",
       "      <th>Position</th>\n",
       "      <th>Jersey Number</th>\n",
       "      <th>Height</th>\n",
       "      <th>Weight</th>\n",
       "    </tr>\n",
       "  </thead>\n",
       "  <tbody>\n",
       "    <tr>\n",
       "      <th>0</th>\n",
       "      <td>L. Messi</td>\n",
       "      <td>31</td>\n",
       "      <td>Argentina</td>\n",
       "      <td>94</td>\n",
       "      <td>94</td>\n",
       "      <td>FC Barcelona</td>\n",
       "      <td>Left</td>\n",
       "      <td>5</td>\n",
       "      <td>4</td>\n",
       "      <td>4</td>\n",
       "      <td>Medium/ Medium</td>\n",
       "      <td>RF</td>\n",
       "      <td>10</td>\n",
       "      <td>5.583333</td>\n",
       "      <td>159</td>\n",
       "    </tr>\n",
       "    <tr>\n",
       "      <th>1</th>\n",
       "      <td>Cristiano Ronaldo</td>\n",
       "      <td>33</td>\n",
       "      <td>Portugal</td>\n",
       "      <td>94</td>\n",
       "      <td>94</td>\n",
       "      <td>Juventus</td>\n",
       "      <td>Right</td>\n",
       "      <td>5</td>\n",
       "      <td>4</td>\n",
       "      <td>5</td>\n",
       "      <td>High/ Low</td>\n",
       "      <td>ST</td>\n",
       "      <td>7</td>\n",
       "      <td>6.166667</td>\n",
       "      <td>183</td>\n",
       "    </tr>\n",
       "    <tr>\n",
       "      <th>2</th>\n",
       "      <td>Neymar Jr</td>\n",
       "      <td>26</td>\n",
       "      <td>Brazil</td>\n",
       "      <td>92</td>\n",
       "      <td>93</td>\n",
       "      <td>Paris Saint-Germain</td>\n",
       "      <td>Right</td>\n",
       "      <td>5</td>\n",
       "      <td>5</td>\n",
       "      <td>5</td>\n",
       "      <td>High/ Medium</td>\n",
       "      <td>LW</td>\n",
       "      <td>10</td>\n",
       "      <td>5.750000</td>\n",
       "      <td>150</td>\n",
       "    </tr>\n",
       "    <tr>\n",
       "      <th>3</th>\n",
       "      <td>De Gea</td>\n",
       "      <td>27</td>\n",
       "      <td>Spain</td>\n",
       "      <td>91</td>\n",
       "      <td>93</td>\n",
       "      <td>Manchester United</td>\n",
       "      <td>Right</td>\n",
       "      <td>4</td>\n",
       "      <td>3</td>\n",
       "      <td>1</td>\n",
       "      <td>Medium/ Medium</td>\n",
       "      <td>GK</td>\n",
       "      <td>1</td>\n",
       "      <td>6.333333</td>\n",
       "      <td>168</td>\n",
       "    </tr>\n",
       "    <tr>\n",
       "      <th>4</th>\n",
       "      <td>K. De Bruyne</td>\n",
       "      <td>27</td>\n",
       "      <td>Belgium</td>\n",
       "      <td>91</td>\n",
       "      <td>92</td>\n",
       "      <td>Manchester City</td>\n",
       "      <td>Right</td>\n",
       "      <td>4</td>\n",
       "      <td>5</td>\n",
       "      <td>4</td>\n",
       "      <td>High/ High</td>\n",
       "      <td>RCM</td>\n",
       "      <td>7</td>\n",
       "      <td>5.083333</td>\n",
       "      <td>154</td>\n",
       "    </tr>\n",
       "  </tbody>\n",
       "</table>\n",
       "</div>"
      ],
      "text/plain": [
       "                Name  Age Nationality  Overall_rating  Potential  \\\n",
       "0           L. Messi   31   Argentina              94         94   \n",
       "1  Cristiano Ronaldo   33    Portugal              94         94   \n",
       "2          Neymar Jr   26      Brazil              92         93   \n",
       "3             De Gea   27       Spain              91         93   \n",
       "4       K. De Bruyne   27     Belgium              91         92   \n",
       "\n",
       "                  Club Preferred Foot  International Reputation  Weak Foot  \\\n",
       "0         FC Barcelona           Left                         5          4   \n",
       "1             Juventus          Right                         5          4   \n",
       "2  Paris Saint-Germain          Right                         5          5   \n",
       "3    Manchester United          Right                         4          3   \n",
       "4      Manchester City          Right                         4          5   \n",
       "\n",
       "   Skill Moves       Work Rate Position  Jersey Number    Height  Weight  \n",
       "0            4  Medium/ Medium       RF             10  5.583333     159  \n",
       "1            5       High/ Low       ST              7  6.166667     183  \n",
       "2            5    High/ Medium       LW             10  5.750000     150  \n",
       "3            1  Medium/ Medium       GK              1  6.333333     168  \n",
       "4            4      High/ High      RCM              7  5.083333     154  "
      ]
     },
     "execution_count": 2,
     "metadata": {},
     "output_type": "execute_result"
    }
   ],
   "source": [
    "df=pd.read_csv('fifa_stats.csv')\n",
    "df.head(5)"
   ]
  },
  {
   "cell_type": "code",
   "execution_count": 3,
   "id": "e1b9ee0c",
   "metadata": {},
   "outputs": [],
   "source": [
    "df.Club.fillna(method='ffill',inplace=True)"
   ]
  },
  {
   "cell_type": "code",
   "execution_count": 4,
   "id": "d97d27cb",
   "metadata": {
    "scrolled": true
   },
   "outputs": [
    {
     "data": {
      "text/plain": [
       "Name                        0\n",
       "Age                         0\n",
       "Nationality                 0\n",
       "Overall_rating              0\n",
       "Potential                   0\n",
       "Club                        0\n",
       "Preferred Foot              0\n",
       "International Reputation    0\n",
       "Weak Foot                   0\n",
       "Skill Moves                 0\n",
       "Work Rate                   0\n",
       "Position                    0\n",
       "Jersey Number               0\n",
       "Height                      0\n",
       "Weight                      0\n",
       "dtype: int64"
      ]
     },
     "execution_count": 4,
     "metadata": {},
     "output_type": "execute_result"
    }
   ],
   "source": [
    "df.isnull().sum()"
   ]
  },
  {
   "cell_type": "code",
   "execution_count": 5,
   "id": "550b6d54",
   "metadata": {
    "scrolled": true
   },
   "outputs": [
    {
     "name": "stdout",
     "output_type": "stream",
     "text": [
      "Sampling Mean : 27.44\n",
      "Standard Error: 3.9769837817119646\n",
      "----------------------------------\n",
      "Population Mean : 27.2315\n",
      "Population Std.Dev: 3.8590612753574423\n"
     ]
    }
   ],
   "source": [
    "#Answer 1\n",
    "\n",
    "population=df.Age.to_list()\n",
    "sample=np.random.choice(population,200)\n",
    "print('Sampling Mean :',np.mean(sample))\n",
    "print('Standard Error:',np.std(sample))\n",
    "\n",
    "print('--'*17)\n",
    "\n",
    "print('Population Mean :',df.Age.mean())\n",
    "print('Population Std.Dev:',df.Age.std())\n",
    "\n",
    "\n",
    "#Increasing in sample, try possible way to included normal variations with standard changes.\n",
    "#Due to that Population Mean and Standard Dev. of Population is almost same as to sampling."
   ]
  },
  {
   "cell_type": "code",
   "execution_count": 6,
   "id": "2fa7bd55",
   "metadata": {},
   "outputs": [],
   "source": [
    "# Answer 2\n",
    "\n",
    "#H1 > 80\n",
    "#H0 <=80\n",
    "\n",
    "Rating=df['Overall_rating'].to_list()\n",
    "n=len(df)\n",
    "mu=80\n",
    "x_bar=df.Overall_rating.mean()\n",
    "sigma=df.Overall_rating.std()"
   ]
  },
  {
   "cell_type": "code",
   "execution_count": 7,
   "id": "84cfc225",
   "metadata": {},
   "outputs": [
    {
     "name": "stdout",
     "output_type": "stream",
     "text": [
      "Z_stats : -24.538460498672645\n",
      "Z_critical : 1.6448536269514729\n",
      "----------------------------------\n",
      "P_value : 2.8718642827629733e-133\n"
     ]
    }
   ],
   "source": [
    "z_stats=(x_bar-mu)/(sigma/n**0.5)\n",
    "print('Z_stats :',z_stats)\n",
    "\n",
    "z_critical=stats.norm.isf(0.05)\n",
    "print('Z_critical :',z_critical)\n",
    "\n",
    "print('--'*17)\n",
    "\n",
    "p_value=stats.norm.cdf(z_stats)\n",
    "print('P_value :',p_value)\n",
    "\n",
    "\n",
    "#Reject H0\n",
    "#Not Greater Than 80"
   ]
  },
  {
   "cell_type": "code",
   "execution_count": null,
   "id": "5b0847dc",
   "metadata": {},
   "outputs": [],
   "source": []
  },
  {
   "cell_type": "code",
   "execution_count": 85,
   "id": "6c6f3f77",
   "metadata": {
    "scrolled": true
   },
   "outputs": [
    {
     "name": "stdout",
     "output_type": "stream",
     "text": [
      "Ch_stats : 29.55053700074528\n",
      "P_value : 0.07747130218941192\n",
      "------------------------------\n",
      "Z_critical : 31.41043284423092\n"
     ]
    }
   ],
   "source": [
    "# Answer C\n",
    "\n",
    "#H1: Are Not Independent\n",
    "#H0 : Independent\n",
    "\n",
    "observed_values=pd.crosstab(df['Preferred Foot'],df['Potential'])\n",
    "\n",
    "z_stats,p_value,ddof,expected_values=chi2_contingency(observed_values,correction=False)\n",
    "print('Ch_stats :',z_stats)\n",
    "print('P_value :',p_value)\n",
    "\n",
    "print('--'*15)\n",
    "\n",
    "print('Z_critical :',stats.chi2.isf(0.05,20))\n",
    "\n",
    "\n",
    "# Fail to Reject\n",
    "# Both are Independent"
   ]
  },
  {
   "cell_type": "code",
   "execution_count": 84,
   "id": "c3f79e18",
   "metadata": {},
   "outputs": [
    {
     "data": {
      "text/plain": [
       "<AxesSubplot:xlabel='Preferred Foot', ylabel='Potential'>"
      ]
     },
     "execution_count": 84,
     "metadata": {},
     "output_type": "execute_result"
    },
    {
     "data": {
      "image/png": "[encoded data removed]",
      "text/plain": [
       "<Figure size 432x288 with 1 Axes>"
      ]
     },
     "metadata": {
      "needs_background": "light"
     },
     "output_type": "display_data"
    }
   ],
   "source": [
    "sns.scatterplot(df['Preferred Foot'],df['Potential'])\n",
    "\n",
    "# No Relationship"
   ]
  },
  {
   "cell_type": "code",
   "execution_count": 63,
   "id": "fe11fd73",
   "metadata": {},
   "outputs": [
    {
     "name": "stdout",
     "output_type": "stream",
     "text": [
      "Ch_stats : 8592.974091115166\n",
      "P_value : 0.0\n",
      "------------------------------\n",
      "Z_critical : 405.24350231839315\n"
     ]
    }
   ],
   "source": [
    "# Answer D\n",
    "\n",
    "#H1: Are Not Independent\n",
    "#H0 : Independent\n",
    "\n",
    "observed_values=pd.crosstab(df['Overall_rating'],df['Potential'])\n",
    "#ddof=360\n",
    "\n",
    "z_stats,p_value,ddof,expected_values=chi2_contingency(observed_values,correction=False)\n",
    "print('Ch_stats :',z_stats)\n",
    "print('P_value :',p_value)\n",
    "\n",
    "print('--'*15)\n",
    "\n",
    "print('Z_critical :',stats.chi2.isf(0.05,360))\n",
    "\n",
    "\n",
    "# Reject H0\n",
    "# Both are not Independent"
   ]
  },
  {
   "cell_type": "code",
   "execution_count": 65,
   "id": "90fc5bb9",
   "metadata": {},
   "outputs": [
    {
     "name": "stdout",
     "output_type": "stream",
     "text": [
      "Ch_stats : 0.0\n",
      "P_value : 1.0\n",
      "------------------------------\n",
      "Z_critical : 92.80827038310773\n"
     ]
    }
   ],
   "source": [
    "# Answer E\n",
    "\n",
    "observed_values=pd.crosstab(df['Skill Moves'],df['Overall_rating']).shape\n",
    "#ddof=72\n",
    "\n",
    "z_stats,p_value,ddof,expected_values=chi2_contingency(observed_values,correction=False)\n",
    "print('Ch_stats :',z_stats)\n",
    "print('P_value :',p_value)\n",
    "\n",
    "print('--'*15)\n",
    "\n",
    "print('Z_critical :',stats.chi2.isf(0.05,72))\n",
    "\n",
    "\n",
    "# Reject H0\n",
    "# Both are not Independent"
   ]
  },
  {
   "cell_type": "code",
   "execution_count": 72,
   "id": "7220faed",
   "metadata": {
    "scrolled": true
   },
   "outputs": [
    {
     "data": {
      "text/plain": [
       "<AxesSubplot:xlabel='Skill Moves', ylabel='Overall_rating'>"
      ]
     },
     "execution_count": 72,
     "metadata": {},
     "output_type": "execute_result"
    },
    {
     "data": {
      "image/png": "[encoded data removed]",
      "text/plain": [
       "<Figure size 432x288 with 1 Axes>"
      ]
     },
     "metadata": {
      "needs_background": "light"
     },
     "output_type": "display_data"
    }
   ],
   "source": [
    "sns.scatterplot(x=df['Skill Moves'],y=df['Overall_rating'])"
   ]
  },
  {
   "cell_type": "markdown",
   "id": "63dc6888",
   "metadata": {},
   "source": [
    "# Network Dataset"
   ]
  },
  {
   "cell_type": "code",
   "execution_count": 87,
   "id": "f7210409",
   "metadata": {
    "scrolled": false
   },
   "outputs": [
    {
     "data": {
      "text/html": [
       "<div>\n",
       "<style scoped>\n",
       "    .dataframe tbody tr th:only-of-type {\n",
       "        vertical-align: middle;\n",
       "    }\n",
       "\n",
       "    .dataframe tbody tr th {\n",
       "        vertical-align: top;\n",
       "    }\n",
       "\n",
       "    .dataframe thead th {\n",
       "        text-align: right;\n",
       "    }\n",
       "</style>\n",
       "<table border=\"1\" class=\"dataframe\">\n",
       "  <thead>\n",
       "    <tr style=\"text-align: right;\">\n",
       "      <th></th>\n",
       "      <th>date</th>\n",
       "      <th>duration</th>\n",
       "      <th>item</th>\n",
       "      <th>month</th>\n",
       "      <th>network</th>\n",
       "      <th>network_type</th>\n",
       "    </tr>\n",
       "  </thead>\n",
       "  <tbody>\n",
       "    <tr>\n",
       "      <th>0</th>\n",
       "      <td>15-10-14 6:58</td>\n",
       "      <td>221.321120</td>\n",
       "      <td>data</td>\n",
       "      <td>2014-11</td>\n",
       "      <td>data</td>\n",
       "      <td>data</td>\n",
       "    </tr>\n",
       "    <tr>\n",
       "      <th>1</th>\n",
       "      <td>15-10-14 6:58</td>\n",
       "      <td>81.610599</td>\n",
       "      <td>call</td>\n",
       "      <td>2014-11</td>\n",
       "      <td>Vodafone</td>\n",
       "      <td>mobile</td>\n",
       "    </tr>\n",
       "    <tr>\n",
       "      <th>2</th>\n",
       "      <td>15-10-14 14:46</td>\n",
       "      <td>143.109111</td>\n",
       "      <td>call</td>\n",
       "      <td>2014-11</td>\n",
       "      <td>Meteor</td>\n",
       "      <td>mobile</td>\n",
       "    </tr>\n",
       "    <tr>\n",
       "      <th>3</th>\n",
       "      <td>15-10-14 14:48</td>\n",
       "      <td>111.888670</td>\n",
       "      <td>call</td>\n",
       "      <td>2014-11</td>\n",
       "      <td>Tesco</td>\n",
       "      <td>mobile</td>\n",
       "    </tr>\n",
       "    <tr>\n",
       "      <th>4</th>\n",
       "      <td>15-10-14 17:27</td>\n",
       "      <td>246.695171</td>\n",
       "      <td>call</td>\n",
       "      <td>2014-11</td>\n",
       "      <td>Tesco</td>\n",
       "      <td>mobile</td>\n",
       "    </tr>\n",
       "  </tbody>\n",
       "</table>\n",
       "</div>"
      ],
      "text/plain": [
       "             date    duration  item    month   network network_type\n",
       "0   15-10-14 6:58  221.321120  data  2014-11      data         data\n",
       "1   15-10-14 6:58   81.610599  call  2014-11  Vodafone       mobile\n",
       "2  15-10-14 14:46  143.109111  call  2014-11    Meteor       mobile\n",
       "3  15-10-14 14:48  111.888670  call  2014-11     Tesco       mobile\n",
       "4  15-10-14 17:27  246.695171  call  2014-11     Tesco       mobile"
      ]
     },
     "execution_count": 87,
     "metadata": {},
     "output_type": "execute_result"
    }
   ],
   "source": [
    "df1=pd.read_csv('phone.csv')\n",
    "df1.head(5)"
   ]
  },
  {
   "cell_type": "code",
   "execution_count": 123,
   "id": "9f5023b4",
   "metadata": {},
   "outputs": [
    {
     "data": {
      "text/plain": [
       "date            datetime64[ns]\n",
       "duration               float64\n",
       "item                    object\n",
       "month           datetime64[ns]\n",
       "network                 object\n",
       "network_type            object\n",
       "dtype: object"
      ]
     },
     "execution_count": 123,
     "metadata": {},
     "output_type": "execute_result"
    }
   ],
   "source": [
    "df1['date']=pd.to_datetime(df1['date'])\n",
    "df1['month']=pd.to_datetime(df1['month'])\n",
    "df1.dtypes"
   ]
  },
  {
   "cell_type": "code",
   "execution_count": 92,
   "id": "c03265de",
   "metadata": {
    "scrolled": true
   },
   "outputs": [
    {
     "data": {
      "text/plain": [
       "Index([], dtype='object')"
      ]
     },
     "execution_count": 92,
     "metadata": {},
     "output_type": "execute_result"
    }
   ],
   "source": [
    "df1.columns[df1.isnull().any()]"
   ]
  },
  {
   "cell_type": "code",
   "execution_count": 141,
   "id": "839b3e19",
   "metadata": {},
   "outputs": [
    {
     "name": "stdout",
     "output_type": "stream",
     "text": [
      "Confidence Interval for 95% are: (141.1778397288302, 147.4320313908407)\n",
      "--------------------------------------------------------------------------\n",
      "Confidence Interval for 99% are : (140.19523500408818, 148.41463611558274)\n"
     ]
    }
   ],
   "source": [
    "# Answer A\n",
    "\n",
    "# For 95%\n",
    "x_bar=df1['duration'].mean()\n",
    "sigma=df1['duration'].std()\n",
    "n=len(df1)\n",
    "\n",
    "print('Confidence Interval for 95% are:',stats.norm.interval(0.95,x_bar,sigma/n**0.5))\n",
    "\n",
    "print('--'*37)\n",
    "\n",
    "print('Confidence Interval for 99% are :',stats.norm.interval(0.99,x_bar,sigma/n**0.5))\n",
    "\n",
    "# Confidence Interval for 99% are much more wider than that of Confidence Interval for 95%."
   ]
  },
  {
   "cell_type": "code",
   "execution_count": 134,
   "id": "28cff77a",
   "metadata": {
    "scrolled": true
   },
   "outputs": [
    {
     "name": "stdout",
     "output_type": "stream",
     "text": [
      "Data is not normally distributed : 2.806794879343099e-17\n",
      "Data is normally distributed : 0.701244592666626\n",
      "Data is not normally distributed : 2.1400605178679167e-24\n"
     ]
    }
   ],
   "source": [
    "# Answer B\n",
    "\n",
    "print('Data is not normally distributed :',stats.shapiro(df1['date'])[1])\n",
    "print('Data is normally distributed :', stats.shapiro(df1['duration'])[1])\n",
    "print('Data is not normally distributed :',stats.shapiro(df1['month'])[1])"
   ]
  },
  {
   "cell_type": "code",
   "execution_count": 146,
   "id": "7073cc4a",
   "metadata": {
    "scrolled": true
   },
   "outputs": [
    {
     "data": {
      "text/plain": [
       "<AxesSubplot:ylabel='Density'>"
      ]
     },
     "execution_count": 146,
     "metadata": {},
     "output_type": "execute_result"
    },
    {
     "data": {
      "image/png": "[encoded data removed]",
      "text/plain": [
       "<Figure size 432x288 with 1 Axes>"
      ]
     },
     "metadata": {
      "needs_background": "light"
     },
     "output_type": "display_data"
    }
   ],
   "source": [
    "# Answer C\n",
    "\n",
    "df1.groupby(by='network').sum()['duration'].plot(kind='kde')\n",
    "\n",
    "# Distribution of duration w.r.t to netwrorks represent that data is normally distributed."
   ]
  },
  {
   "cell_type": "code",
   "execution_count": 149,
   "id": "ac918d96",
   "metadata": {},
   "outputs": [
    {
     "data": {
      "text/plain": [
       "ShapiroResult(statistic=0.8962633609771729, pvalue=0.30895206332206726)"
      ]
     },
     "execution_count": 149,
     "metadata": {},
     "output_type": "execute_result"
    }
   ],
   "source": [
    "stats.shapiro(df1.groupby(by='network').sum()['duration'])\n",
    "\n",
    "# And, From shapiro test we get to know that data is normally distributed."
   ]
  },
  {
   "cell_type": "code",
   "execution_count": 156,
   "id": "6ab25622",
   "metadata": {},
   "outputs": [],
   "source": [
    "df1.network.value_counts()\n",
    "grp_a=df1[df1['network']=='Vodafone']['duration']\n",
    "grp_b=df1[df1['network']=='Three']['duration']\n",
    "grp_c=df1[df1['network']=='data']['duration']\n",
    "grp_d=df1[df1['network']=='Meteor']['duration']\n",
    "grp_e=df1[df1['network']=='Tesco']['duration']\n",
    "grp_f=df1[df1['network']=='landline']['duration']\n",
    "grp_g=df1[df1['network']=='voicemail']['duration']"
   ]
  },
  {
   "cell_type": "code",
   "execution_count": 159,
   "id": "a34ff60c",
   "metadata": {},
   "outputs": [
    {
     "name": "stdout",
     "output_type": "stream",
     "text": [
      "Data is normally distributed : 0.3013075590133667\n",
      "Data is normally distributed : 0.47072795033454895\n",
      "Data is normally distributed : 0.48521795868873596\n",
      "Data is normally distributed : 0.7697541117668152\n",
      "Data is normally distributed : 0.5880236029624939\n",
      "Data is normally distributed : 0.6510748267173767\n",
      "Data is normally distributed : 0.31774839758872986\n"
     ]
    }
   ],
   "source": [
    "# For Normally Distribution\n",
    "\n",
    "print('Data is normally distributed :',stats.shapiro(grp_a)[1])\n",
    "print('Data is normally distributed :',stats.shapiro(grp_b)[1])\n",
    "print('Data is normally distributed :',stats.shapiro(grp_c)[1])\n",
    "print('Data is normally distributed :',stats.shapiro(grp_d)[1])\n",
    "print('Data is normally distributed :',stats.shapiro(grp_e)[1])\n",
    "print('Data is normally distributed :',stats.shapiro(grp_f)[1])\n",
    "print('Data is normally distributed :',stats.shapiro(grp_g)[1])"
   ]
  },
  {
   "cell_type": "code",
   "execution_count": 162,
   "id": "1c1e9df6",
   "metadata": {},
   "outputs": [
    {
     "name": "stdout",
     "output_type": "stream",
     "text": [
      "Variance are equal: 0.1653481809327658\n"
     ]
    }
   ],
   "source": [
    "#For Variance\n",
    "print('Variance are equal:',stats.levene(grp_a,grp_b,grp_c,grp_d,grp_e,grp_f,grp_g)[1])"
   ]
  },
  {
   "cell_type": "code",
   "execution_count": 165,
   "id": "4e048a1d",
   "metadata": {},
   "outputs": [
    {
     "name": "stdout",
     "output_type": "stream",
     "text": [
      "f_stats : 1.4036497792001215\n",
      "P_value : 0.2102939953009413\n",
      "--------------------------------\n",
      "f_critical : 2.1097142075162147\n"
     ]
    }
   ],
   "source": [
    "f_stats,p_value=stats.f_oneway(grp_a,grp_b,grp_c,grp_d,grp_e,grp_f,grp_g)\n",
    "print('f_stats :',f_stats)\n",
    "print('P_value :',p_value)\n",
    "\n",
    "print('--'*16)\n",
    "\n",
    "print('f_critical :',stats.f.isf(0.05,6,len(df1)-7))\n",
    "\n",
    "# Fail to Reject"
   ]
  },
  {
   "cell_type": "code",
   "execution_count": 154,
   "id": "da9f9952",
   "metadata": {
    "scrolled": true
   },
   "outputs": [],
   "source": [
    "# Answer D\n",
    "\n",
    "observed_values=pd.crosstab(df1['network'],df1['duration'])\n",
    "#ddof=4914"
   ]
  },
  {
   "cell_type": "code",
   "execution_count": 167,
   "id": "6d0e142c",
   "metadata": {},
   "outputs": [
    {
     "name": "stdout",
     "output_type": "stream",
     "text": [
      "Ch_stats : 4920.0\n",
      "P_value : 0.4732023780441309\n",
      "------------------------------\n",
      "Z_critical : 5078.193740201582\n"
     ]
    }
   ],
   "source": [
    "z_stats,p_value,ddof,expected_values=chi2_contingency(observed_values,correction=False)\n",
    "print('Ch_stats :',z_stats)\n",
    "print('P_value :',p_value)\n",
    "\n",
    "print('--'*15)\n",
    "\n",
    "print('Z_critical :',stats.chi2.isf(0.05,4914))\n",
    "\n",
    "\n",
    "# Fail to Reject H0\n",
    "# Both are Independent"
   ]
  },
  {
   "cell_type": "code",
   "execution_count": 174,
   "id": "d7b65bcd",
   "metadata": {},
   "outputs": [],
   "source": [
    "# Answer E\n",
    "\n",
    "observed_values=pd.crosstab(df1['network_type'],df1['network'])\n",
    "#ddof=18"
   ]
  },
  {
   "cell_type": "code",
   "execution_count": 176,
   "id": "2d8bb196",
   "metadata": {},
   "outputs": [
    {
     "name": "stdout",
     "output_type": "stream",
     "text": [
      "Ch_stats : 2460.0\n",
      "P_value : 0.0\n",
      "------------------------------\n",
      "Z_critical : 28.869299430392637\n"
     ]
    }
   ],
   "source": [
    "z_stats,p_value,ddof,expected_values=chi2_contingency(observed_values,correction=False)\n",
    "print('Ch_stats :',z_stats)\n",
    "print('P_value :',p_value)\n",
    "\n",
    "print('--'*15)\n",
    "\n",
    "print('Z_critical :',stats.chi2.isf(0.05,18))\n",
    "\n",
    "\n",
    "# Reject H0\n",
    "# Both are not Independent"
   ]
  }
 ],
 "metadata": {
  "kernelspec": {
   "display_name": "Python 3 (ipykernel)",
   "language": "python",
   "name": "python3"
  },
  "language_info": {
   "codemirror_mode": {
    "name": "ipython",
    "version": 3
   },
   "file_extension": ".py",
   "mimetype": "text/x-python",
   "name": "python",
   "nbconvert_exporter": "python",
   "pygments_lexer": "ipython3",
   "version": "3.9.7"
  }
 },
 "nbformat": 4,
 "nbformat_minor": 5
}
